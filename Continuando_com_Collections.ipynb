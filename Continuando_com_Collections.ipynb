{
  "nbformat": 4,
  "nbformat_minor": 0,
  "metadata": {
    "colab": {
      "provenance": [],
      "history_visible": true,
      "authorship_tag": "ABX9TyNPDjDhuQNwnwC7w4mZCETZ",
      "include_colab_link": true
    },
    "kernelspec": {
      "name": "python3",
      "display_name": "Python 3"
    },
    "language_info": {
      "name": "python"
    }
  },
  "cells": [
    {
      "cell_type": "markdown",
      "metadata": {
        "id": "view-in-github",
        "colab_type": "text"
      },
      "source": [
        "<a href=\"https://colab.research.google.com/github/Luffycriador/numero-secreto/blob/main/Continuando_com_Collections.ipynb\" target=\"_parent\"><img src=\"https://colab.research.google.com/assets/colab-badge.svg\" alt=\"Open In Colab\"/></a>"
      ]
    },
    {
      "cell_type": "code",
      "execution_count": 1,
      "metadata": {
        "id": "jgOx-On3UCEl"
      },
      "outputs": [],
      "source": [
        "usuarios_data_science = [15, 23, 43, 56]\n",
        "usuarios_machine_learning = [13, 23, 56, 42]"
      ]
    },
    {
      "cell_type": "code",
      "source": [
        "assistiram = usuarios_data_science.copy()\n",
        "assistiram.extend(usuarios_machine_learning)\n",
        "assistiram"
      ],
      "metadata": {
        "colab": {
          "base_uri": "https://localhost:8080/"
        },
        "id": "MHgKv1_6VEyh",
        "outputId": "4631ec50-4e8c-4d4b-e20c-7a809df01304"
      },
      "execution_count": 3,
      "outputs": [
        {
          "output_type": "execute_result",
          "data": {
            "text/plain": [
              "[15, 23, 43, 56, 13, 23, 56, 42]"
            ]
          },
          "metadata": {},
          "execution_count": 3
        }
      ]
    },
    {
      "cell_type": "code",
      "source": [
        "len(assistiram)"
      ],
      "metadata": {
        "colab": {
          "base_uri": "https://localhost:8080/"
        },
        "id": "YMvR1cQJVgWP",
        "outputId": "f0d64148-b482-44b9-97ca-0d2aa8352221"
      },
      "execution_count": 4,
      "outputs": [
        {
          "output_type": "execute_result",
          "data": {
            "text/plain": [
              "8"
            ]
          },
          "metadata": {},
          "execution_count": 4
        }
      ]
    },
    {
      "cell_type": "code",
      "source": [
        "set(assistiram)"
      ],
      "metadata": {
        "colab": {
          "base_uri": "https://localhost:8080/"
        },
        "id": "Qhb29p3FV6SM",
        "outputId": "c208e35d-f9f2-40c3-813d-f41b75e079cb"
      },
      "execution_count": 6,
      "outputs": [
        {
          "output_type": "execute_result",
          "data": {
            "text/plain": [
              "{13, 15, 23, 42, 43, 56}"
            ]
          },
          "metadata": {},
          "execution_count": 6
        }
      ]
    },
    {
      "cell_type": "code",
      "source": [
        "set([1,2,3,1])"
      ],
      "metadata": {
        "colab": {
          "base_uri": "https://localhost:8080/"
        },
        "id": "K4Db5dGzWmUd",
        "outputId": "a4fda44d-e72e-43d1-fd4a-4d79c93bf2f4"
      },
      "execution_count": 11,
      "outputs": [
        {
          "output_type": "execute_result",
          "data": {
            "text/plain": [
              "{1, 2, 3}"
            ]
          },
          "metadata": {},
          "execution_count": 11
        }
      ]
    },
    {
      "cell_type": "code",
      "source": [
        "set([4,1,2,3,1])"
      ],
      "metadata": {
        "colab": {
          "base_uri": "https://localhost:8080/"
        },
        "id": "Nei-esXeXNAk",
        "outputId": "ff97ac70-614e-4d38-846a-4677273987cb"
      },
      "execution_count": 12,
      "outputs": [
        {
          "output_type": "execute_result",
          "data": {
            "text/plain": [
              "{1, 2, 3, 4}"
            ]
          },
          "metadata": {},
          "execution_count": 12
        }
      ]
    },
    {
      "cell_type": "code",
      "source": [
        "type({1,2})"
      ],
      "metadata": {
        "colab": {
          "base_uri": "https://localhost:8080/"
        },
        "id": "a0NRvcVSXosE",
        "outputId": "9aa71915-320a-4152-dba5-0f09d80dc181"
      },
      "execution_count": 13,
      "outputs": [
        {
          "output_type": "execute_result",
          "data": {
            "text/plain": [
              "set"
            ]
          },
          "metadata": {},
          "execution_count": 13
        }
      ]
    },
    {
      "cell_type": "code",
      "source": [
        "usuarios_data_science = {15, 23, 43, 56}\n",
        "usuarios_machine_learning = {13, 23, 56, 42}"
      ],
      "metadata": {
        "id": "17cCCJOeX6F8"
      },
      "execution_count": 14,
      "outputs": []
    },
    {
      "cell_type": "code",
      "source": [
        "usuarios_machine_learning"
      ],
      "metadata": {
        "colab": {
          "base_uri": "https://localhost:8080/"
        },
        "id": "smHeeXocYh4k",
        "outputId": "b4eeecc4-9ed3-486a-f690-1d0d72df88a9"
      },
      "execution_count": 15,
      "outputs": [
        {
          "output_type": "execute_result",
          "data": {
            "text/plain": [
              "{13, 23, 42, 56}"
            ]
          },
          "metadata": {},
          "execution_count": 15
        }
      ]
    },
    {
      "cell_type": "code",
      "source": [
        "usuarios_machine_learning[3]"
      ],
      "metadata": {
        "colab": {
          "base_uri": "https://localhost:8080/",
          "height": 175
        },
        "id": "tu0ASWWSYlmL",
        "outputId": "c6b7e480-4351-433b-fdc5-ae53540bf5b2"
      },
      "execution_count": 16,
      "outputs": [
        {
          "output_type": "error",
          "ename": "TypeError",
          "evalue": "ignored",
          "traceback": [
            "\u001b[0;31m---------------------------------------------------------------------------\u001b[0m",
            "\u001b[0;31mTypeError\u001b[0m                                 Traceback (most recent call last)",
            "\u001b[0;32m<ipython-input-16-ae55a602a7d7>\u001b[0m in \u001b[0;36m<cell line: 1>\u001b[0;34m()\u001b[0m\n\u001b[0;32m----> 1\u001b[0;31m \u001b[0musuarios_machine_learning\u001b[0m\u001b[0;34m[\u001b[0m\u001b[0;36m3\u001b[0m\u001b[0;34m]\u001b[0m\u001b[0;34m\u001b[0m\u001b[0;34m\u001b[0m\u001b[0m\n\u001b[0m",
            "\u001b[0;31mTypeError\u001b[0m: 'set' object is not subscriptable"
          ]
        }
      ]
    },
    {
      "cell_type": "code",
      "source": [
        "for usuario in set(assistiram):\n",
        "  print(usuario)"
      ],
      "metadata": {
        "colab": {
          "base_uri": "https://localhost:8080/"
        },
        "id": "p_YYhoXqYu4E",
        "outputId": "35ec391c-e19d-437b-de68-65b2e51e9e6c"
      },
      "execution_count": 18,
      "outputs": [
        {
          "output_type": "stream",
          "name": "stdout",
          "text": [
            "42\n",
            "43\n",
            "13\n",
            "15\n",
            "23\n",
            "56\n"
          ]
        }
      ]
    },
    {
      "cell_type": "code",
      "source": [
        "usuarios_data_science = {15, 23, 43, 56}\n",
        "usuarios_machine_learning = {13, 23, 56, 42}"
      ],
      "metadata": {
        "id": "ziaHFT2VZIjR"
      },
      "execution_count": 19,
      "outputs": []
    },
    {
      "cell_type": "code",
      "source": [
        "usuarios_data_science | usuarios_machine_learning"
      ],
      "metadata": {
        "colab": {
          "base_uri": "https://localhost:8080/"
        },
        "id": "RIaO1r3MZk3o",
        "outputId": "32f1a260-4ec9-4b51-b6b2-f2874ece2af2"
      },
      "execution_count": 20,
      "outputs": [
        {
          "output_type": "execute_result",
          "data": {
            "text/plain": [
              "{13, 15, 23, 42, 43, 56}"
            ]
          },
          "metadata": {},
          "execution_count": 20
        }
      ]
    },
    {
      "cell_type": "code",
      "source": [
        "usuarios_data_science & usuarios_machine_learning"
      ],
      "metadata": {
        "colab": {
          "base_uri": "https://localhost:8080/"
        },
        "id": "XcYjEvHbZrg4",
        "outputId": "bdf55fcb-61ee-4997-8475-3bed6ed653b1"
      },
      "execution_count": 21,
      "outputs": [
        {
          "output_type": "execute_result",
          "data": {
            "text/plain": [
              "{23, 56}"
            ]
          },
          "metadata": {},
          "execution_count": 21
        }
      ]
    },
    {
      "cell_type": "code",
      "source": [
        "usuarios_data_science - usuarios_machine_learning"
      ],
      "metadata": {
        "colab": {
          "base_uri": "https://localhost:8080/"
        },
        "id": "Zw4pF74eaa9f",
        "outputId": "ff8f4225-5725-474c-edac-3a79b42b8759"
      },
      "execution_count": 22,
      "outputs": [
        {
          "output_type": "execute_result",
          "data": {
            "text/plain": [
              "{15, 43}"
            ]
          },
          "metadata": {},
          "execution_count": 22
        }
      ]
    },
    {
      "cell_type": "code",
      "source": [
        "fez_ds_mas_nao_dez_ml = usuarios_data_science - usuarios_machine_learning\n",
        "15 in fez_ds_mas_nao_dez_ml"
      ],
      "metadata": {
        "colab": {
          "base_uri": "https://localhost:8080/"
        },
        "id": "1z2Aor7ra_e5",
        "outputId": "18e98a23-154a-4812-db6f-918121933d44"
      },
      "execution_count": 23,
      "outputs": [
        {
          "output_type": "execute_result",
          "data": {
            "text/plain": [
              "True"
            ]
          },
          "metadata": {},
          "execution_count": 23
        }
      ]
    },
    {
      "cell_type": "code",
      "source": [
        "usuarios_data_science ^ usuarios_machine_learning"
      ],
      "metadata": {
        "colab": {
          "base_uri": "https://localhost:8080/"
        },
        "id": "tpuF_R-abecv",
        "outputId": "e6527f78-26a3-40f7-a7cf-a80258467c4b"
      },
      "execution_count": 24,
      "outputs": [
        {
          "output_type": "execute_result",
          "data": {
            "text/plain": [
              "{13, 15, 42, 43}"
            ]
          },
          "metadata": {},
          "execution_count": 24
        }
      ]
    },
    {
      "cell_type": "code",
      "source": [
        "usuarios = {1,5,76,34,52,13,17}\n",
        "len(usuarios)"
      ],
      "metadata": {
        "colab": {
          "base_uri": "https://localhost:8080/"
        },
        "id": "m0-9pgb2bobp",
        "outputId": "7c8b3efe-1c4b-4c1c-bda8-5d84aa3164f3"
      },
      "execution_count": 25,
      "outputs": [
        {
          "output_type": "execute_result",
          "data": {
            "text/plain": [
              "7"
            ]
          },
          "metadata": {},
          "execution_count": 25
        }
      ]
    },
    {
      "cell_type": "code",
      "source": [
        "usuarios.add(13)\n",
        "len(usuarios)"
      ],
      "metadata": {
        "colab": {
          "base_uri": "https://localhost:8080/"
        },
        "id": "gtL16WkncA0_",
        "outputId": "26bd03b7-9a3c-4699-c61b-2a3370eb1d80"
      },
      "execution_count": 27,
      "outputs": [
        {
          "output_type": "execute_result",
          "data": {
            "text/plain": [
              "7"
            ]
          },
          "metadata": {},
          "execution_count": 27
        }
      ]
    },
    {
      "cell_type": "code",
      "source": [
        "usuarios.add(765)\n",
        "len(usuarios)"
      ],
      "metadata": {
        "id": "JarRf6p-cW76"
      },
      "execution_count": 28,
      "outputs": []
    },
    {
      "cell_type": "code",
      "source": [
        "usuarios"
      ],
      "metadata": {
        "colab": {
          "base_uri": "https://localhost:8080/"
        },
        "id": "MNy97XLAcmaX",
        "outputId": "26d75350-c9f2-4139-e20f-163e4f693fbc"
      },
      "execution_count": 30,
      "outputs": [
        {
          "output_type": "execute_result",
          "data": {
            "text/plain": [
              "{1, 5, 13, 17, 34, 52, 76, 765}"
            ]
          },
          "metadata": {},
          "execution_count": 30
        }
      ]
    },
    {
      "cell_type": "code",
      "source": [
        "usuarios = frozenset(usuarios)\n",
        "usuarios"
      ],
      "metadata": {
        "colab": {
          "base_uri": "https://localhost:8080/"
        },
        "id": "QCfXX53pcm3O",
        "outputId": "a666df93-621a-40b1-bab5-25cfe244bba6"
      },
      "execution_count": 31,
      "outputs": [
        {
          "output_type": "execute_result",
          "data": {
            "text/plain": [
              "frozenset({1, 5, 13, 17, 34, 52, 76, 765})"
            ]
          },
          "metadata": {},
          "execution_count": 31
        }
      ]
    },
    {
      "cell_type": "code",
      "source": [
        "type(usuarios)"
      ],
      "metadata": {
        "colab": {
          "base_uri": "https://localhost:8080/"
        },
        "id": "zQWVa9R3c8hk",
        "outputId": "d810cb9b-4b4a-4aad-e7ce-eb338d545ab5"
      },
      "execution_count": 32,
      "outputs": [
        {
          "output_type": "execute_result",
          "data": {
            "text/plain": [
              "frozenset"
            ]
          },
          "metadata": {},
          "execution_count": 32
        }
      ]
    },
    {
      "cell_type": "code",
      "source": [
        "usuarios.add(134)"
      ],
      "metadata": {
        "colab": {
          "base_uri": "https://localhost:8080/",
          "height": 175
        },
        "id": "v9MkpzYkc-31",
        "outputId": "050618bc-7f19-48a7-d8b5-31792ceaf7f5"
      },
      "execution_count": 33,
      "outputs": [
        {
          "output_type": "error",
          "ename": "AttributeError",
          "evalue": "ignored",
          "traceback": [
            "\u001b[0;31m---------------------------------------------------------------------------\u001b[0m",
            "\u001b[0;31mAttributeError\u001b[0m                            Traceback (most recent call last)",
            "\u001b[0;32m<ipython-input-33-f85b988f2472>\u001b[0m in \u001b[0;36m<cell line: 1>\u001b[0;34m()\u001b[0m\n\u001b[0;32m----> 1\u001b[0;31m \u001b[0musuarios\u001b[0m\u001b[0;34m.\u001b[0m\u001b[0madd\u001b[0m\u001b[0;34m(\u001b[0m\u001b[0;36m134\u001b[0m\u001b[0;34m)\u001b[0m\u001b[0;34m\u001b[0m\u001b[0;34m\u001b[0m\u001b[0m\n\u001b[0m",
            "\u001b[0;31mAttributeError\u001b[0m: 'frozenset' object has no attribute 'add'"
          ]
        }
      ]
    },
    {
      "cell_type": "code",
      "source": [
        "meu_texto = \"Bem vindo meu nome é Guilherme eu gosto muito de nomes e tenho meu cachorro e gosto de cachorro\"\n",
        "meu_texto.split()"
      ],
      "metadata": {
        "colab": {
          "base_uri": "https://localhost:8080/"
        },
        "id": "qSOaUM1FeElz",
        "outputId": "80d45949-b832-4a54-837f-aaa44806d47b"
      },
      "execution_count": 39,
      "outputs": [
        {
          "output_type": "execute_result",
          "data": {
            "text/plain": [
              "['Bem',\n",
              " 'vindo',\n",
              " 'meu',\n",
              " 'nome',\n",
              " 'é',\n",
              " 'Guilherme',\n",
              " 'eu',\n",
              " 'gosto',\n",
              " 'muito',\n",
              " 'de',\n",
              " 'nomes',\n",
              " 'e',\n",
              " 'tenho',\n",
              " 'meu',\n",
              " 'cachorro',\n",
              " 'e',\n",
              " 'gosto',\n",
              " 'de',\n",
              " 'cachorro']"
            ]
          },
          "metadata": {},
          "execution_count": 39
        }
      ]
    },
    {
      "cell_type": "code",
      "source": [
        "set(meu_texto.split())"
      ],
      "metadata": {
        "colab": {
          "base_uri": "https://localhost:8080/"
        },
        "id": "n36AfgySelXj",
        "outputId": "2419b889-a8dd-4701-ba5c-da89f40d13f5"
      },
      "execution_count": 40,
      "outputs": [
        {
          "output_type": "execute_result",
          "data": {
            "text/plain": [
              "{'Bem',\n",
              " 'Guilherme',\n",
              " 'cachorro',\n",
              " 'de',\n",
              " 'e',\n",
              " 'eu',\n",
              " 'gosto',\n",
              " 'meu',\n",
              " 'muito',\n",
              " 'nome',\n",
              " 'nomes',\n",
              " 'tenho',\n",
              " 'vindo',\n",
              " 'é'}"
            ]
          },
          "metadata": {},
          "execution_count": 40
        }
      ]
    },
    {
      "cell_type": "markdown",
      "source": [
        "# Dicionário(Mapa etc)"
      ],
      "metadata": {
        "id": "-xML-MowgVj6"
      }
    },
    {
      "cell_type": "code",
      "source": [
        "aparicoes = {\n",
        "  \"Guilherme\" : 1,\n",
        "  \"cachorro\" : 2,\n",
        "  \"nome\" : 2,\n",
        "  \"vindo\" : 1\n",
        "}"
      ],
      "metadata": {
        "id": "G4-ORQx8e2Hr"
      },
      "execution_count": 41,
      "outputs": []
    },
    {
      "cell_type": "code",
      "source": [
        "type(aparicoes)"
      ],
      "metadata": {
        "colab": {
          "base_uri": "https://localhost:8080/"
        },
        "id": "6RBTwKhrjLAG",
        "outputId": "40fb3d5e-024f-4b60-960a-632fe75e00c7"
      },
      "execution_count": 42,
      "outputs": [
        {
          "output_type": "execute_result",
          "data": {
            "text/plain": [
              "dict"
            ]
          },
          "metadata": {},
          "execution_count": 42
        }
      ]
    },
    {
      "cell_type": "code",
      "source": [
        "aparicoes[\"Guilherme\"]"
      ],
      "metadata": {
        "colab": {
          "base_uri": "https://localhost:8080/"
        },
        "id": "KjDAprW_jMp2",
        "outputId": "45f6ca68-2a4b-4344-9e7f-665e25a17d92"
      },
      "execution_count": 43,
      "outputs": [
        {
          "output_type": "execute_result",
          "data": {
            "text/plain": [
              "1"
            ]
          },
          "metadata": {},
          "execution_count": 43
        }
      ]
    },
    {
      "cell_type": "code",
      "source": [
        "aparicoes[\"cachorro\"]"
      ],
      "metadata": {
        "colab": {
          "base_uri": "https://localhost:8080/"
        },
        "id": "l-NmH1UjjPwO",
        "outputId": "c38f937e-e78b-4d08-ba2e-deb4335180c6"
      },
      "execution_count": 44,
      "outputs": [
        {
          "output_type": "execute_result",
          "data": {
            "text/plain": [
              "2"
            ]
          },
          "metadata": {},
          "execution_count": 44
        }
      ]
    },
    {
      "cell_type": "code",
      "source": [
        "aparicoes[\"xpto\"]"
      ],
      "metadata": {
        "colab": {
          "base_uri": "https://localhost:8080/",
          "height": 175
        },
        "id": "doU5zX65jTMV",
        "outputId": "9c77bb93-3567-4f5e-a96b-1af8d475b6ce"
      },
      "execution_count": 45,
      "outputs": [
        {
          "output_type": "error",
          "ename": "KeyError",
          "evalue": "ignored",
          "traceback": [
            "\u001b[0;31m---------------------------------------------------------------------------\u001b[0m",
            "\u001b[0;31mKeyError\u001b[0m                                  Traceback (most recent call last)",
            "\u001b[0;32m<ipython-input-45-5844a27a46e4>\u001b[0m in \u001b[0;36m<cell line: 1>\u001b[0;34m()\u001b[0m\n\u001b[0;32m----> 1\u001b[0;31m \u001b[0maparicoes\u001b[0m\u001b[0;34m[\u001b[0m\u001b[0;34m\"xpto\"\u001b[0m\u001b[0;34m]\u001b[0m\u001b[0;34m\u001b[0m\u001b[0;34m\u001b[0m\u001b[0m\n\u001b[0m",
            "\u001b[0;31mKeyError\u001b[0m: 'xpto'"
          ]
        }
      ]
    },
    {
      "cell_type": "code",
      "source": [
        "aparicoes.get(\"xpto\", 0)\n"
      ],
      "metadata": {
        "colab": {
          "base_uri": "https://localhost:8080/"
        },
        "id": "NMzc1JvOjVwe",
        "outputId": "46346985-72bd-46a9-fde3-8848d5679330"
      },
      "execution_count": 46,
      "outputs": [
        {
          "output_type": "execute_result",
          "data": {
            "text/plain": [
              "0"
            ]
          },
          "metadata": {},
          "execution_count": 46
        }
      ]
    },
    {
      "cell_type": "code",
      "source": [
        "aparicoes.get(\"cachorro\", 0)"
      ],
      "metadata": {
        "colab": {
          "base_uri": "https://localhost:8080/"
        },
        "id": "zCMnfRV6jpfd",
        "outputId": "7a1a952c-4ef5-406c-b777-2f78270ab5f8"
      },
      "execution_count": 47,
      "outputs": [
        {
          "output_type": "execute_result",
          "data": {
            "text/plain": [
              "2"
            ]
          },
          "metadata": {},
          "execution_count": 47
        }
      ]
    },
    {
      "cell_type": "code",
      "source": [
        "aparicoes = dict(Guilherme = 2, cachorro = 1)\n",
        "aparicoes"
      ],
      "metadata": {
        "colab": {
          "base_uri": "https://localhost:8080/"
        },
        "id": "wMLbgK1vjwue",
        "outputId": "7e28f0d9-848e-4383-f5ea-d1cd143eec19"
      },
      "execution_count": 49,
      "outputs": [
        {
          "output_type": "execute_result",
          "data": {
            "text/plain": [
              "{'Guilherme': 2, 'cachorro': 1}"
            ]
          },
          "metadata": {},
          "execution_count": 49
        }
      ]
    },
    {
      "cell_type": "code",
      "source": [
        "aparicoes = {\n",
        "  \"Guilherme\" : 1,\n",
        "  \"cachorro\" : 2,\n",
        "  \"nome\" : 2,\n",
        "  \"vindo\" : 1\n",
        "}"
      ],
      "metadata": {
        "id": "uz_UGaclkQWt"
      },
      "execution_count": 50,
      "outputs": []
    },
    {
      "cell_type": "code",
      "source": [
        "aparicoes[\"Carlos\"] = 1"
      ],
      "metadata": {
        "id": "R6UM8tN8kpok"
      },
      "execution_count": 51,
      "outputs": []
    },
    {
      "cell_type": "code",
      "source": [
        "aparicoes"
      ],
      "metadata": {
        "colab": {
          "base_uri": "https://localhost:8080/"
        },
        "id": "RdVthfsakxe7",
        "outputId": "82984e34-2437-458b-e6fe-d9bf97ceadde"
      },
      "execution_count": 52,
      "outputs": [
        {
          "output_type": "execute_result",
          "data": {
            "text/plain": [
              "{'Guilherme': 1, 'cachorro': 2, 'nome': 2, 'vindo': 1, 'Carlos': 1}"
            ]
          },
          "metadata": {},
          "execution_count": 52
        }
      ]
    },
    {
      "cell_type": "code",
      "source": [
        "aparicoes[\"Carlos\"] = 2"
      ],
      "metadata": {
        "id": "t-mVtCJsky5b"
      },
      "execution_count": 53,
      "outputs": []
    },
    {
      "cell_type": "code",
      "source": [
        "del aparicoes[\"Carlos\"]"
      ],
      "metadata": {
        "id": "lAm3QMZxk38T"
      },
      "execution_count": 54,
      "outputs": []
    },
    {
      "cell_type": "code",
      "source": [
        "aparicoes"
      ],
      "metadata": {
        "colab": {
          "base_uri": "https://localhost:8080/"
        },
        "id": "LUhT4tark6-6",
        "outputId": "f327aac5-d254-42ec-ee60-398667803d1c"
      },
      "execution_count": 55,
      "outputs": [
        {
          "output_type": "execute_result",
          "data": {
            "text/plain": [
              "{'Guilherme': 1, 'cachorro': 2, 'nome': 2, 'vindo': 1}"
            ]
          },
          "metadata": {},
          "execution_count": 55
        }
      ]
    },
    {
      "cell_type": "code",
      "source": [
        "\"cachorro\" in aparicoes"
      ],
      "metadata": {
        "colab": {
          "base_uri": "https://localhost:8080/"
        },
        "id": "Jk6t5d46k76q",
        "outputId": "7dc1684d-d873-4492-a44e-554b16c2d25d"
      },
      "execution_count": 56,
      "outputs": [
        {
          "output_type": "execute_result",
          "data": {
            "text/plain": [
              "True"
            ]
          },
          "metadata": {},
          "execution_count": 56
        }
      ]
    },
    {
      "cell_type": "code",
      "source": [
        "\"Carlos\" in aparicoes"
      ],
      "metadata": {
        "colab": {
          "base_uri": "https://localhost:8080/"
        },
        "id": "dtywkMl7lEwy",
        "outputId": "0d18a72a-0ae5-49a6-8849-1d500800cbae"
      },
      "execution_count": 57,
      "outputs": [
        {
          "output_type": "execute_result",
          "data": {
            "text/plain": [
              "False"
            ]
          },
          "metadata": {},
          "execution_count": 57
        }
      ]
    },
    {
      "cell_type": "code",
      "source": [
        "for elemento in aparicoes:\n",
        "  print(elemento)"
      ],
      "metadata": {
        "colab": {
          "base_uri": "https://localhost:8080/"
        },
        "id": "SzEfvSi4lRO6",
        "outputId": "de1659bb-9178-44e4-a69b-aab3ea7444e8"
      },
      "execution_count": 80,
      "outputs": [
        {
          "output_type": "stream",
          "name": "stdout",
          "text": [
            "bem\n",
            "vindo\n",
            "meu\n",
            "nome\n",
            "é\n",
            "guilherme\n",
            "eu\n",
            "gosto\n",
            "muito\n",
            "de\n",
            "nomes\n",
            "e\n",
            "tenho\n",
            "cachorro\n"
          ]
        }
      ]
    },
    {
      "cell_type": "code",
      "source": [
        "for elemento in aparicoes.keys():\n",
        "  print(elemento)"
      ],
      "metadata": {
        "colab": {
          "base_uri": "https://localhost:8080/"
        },
        "id": "M31LwJNQlkMp",
        "outputId": "094d9cf1-6707-41bf-d757-f68cd338484e"
      },
      "execution_count": 79,
      "outputs": [
        {
          "output_type": "stream",
          "name": "stdout",
          "text": [
            "bem\n",
            "vindo\n",
            "meu\n",
            "nome\n",
            "é\n",
            "guilherme\n",
            "eu\n",
            "gosto\n",
            "muito\n",
            "de\n",
            "nomes\n",
            "e\n",
            "tenho\n",
            "cachorro\n"
          ]
        }
      ]
    },
    {
      "cell_type": "code",
      "source": [
        "for elemento in aparicoes.values():\n",
        "  print(elemento)"
      ],
      "metadata": {
        "colab": {
          "base_uri": "https://localhost:8080/"
        },
        "id": "OQ1DBTYamGnQ",
        "outputId": "0e09b242-7577-479b-ad95-9d372dc32202"
      },
      "execution_count": 78,
      "outputs": [
        {
          "output_type": "stream",
          "name": "stdout",
          "text": [
            "1\n",
            "1\n",
            "2\n",
            "1\n",
            "1\n",
            "1\n",
            "1\n",
            "2\n",
            "1\n",
            "2\n",
            "1\n",
            "2\n",
            "1\n",
            "2\n"
          ]
        }
      ]
    },
    {
      "cell_type": "code",
      "source": [
        "1 in aparicoes.values()"
      ],
      "metadata": {
        "colab": {
          "base_uri": "https://localhost:8080/"
        },
        "id": "C4gh38f4mabg",
        "outputId": "d655f7f9-74f8-4219-fe2c-dcff9e30d0e5"
      },
      "execution_count": 77,
      "outputs": [
        {
          "output_type": "execute_result",
          "data": {
            "text/plain": [
              "True"
            ]
          },
          "metadata": {},
          "execution_count": 77
        }
      ]
    },
    {
      "cell_type": "code",
      "source": [
        "for elemento in aparicoes.items():\n",
        "  print(elemento)"
      ],
      "metadata": {
        "colab": {
          "base_uri": "https://localhost:8080/"
        },
        "id": "lMJhZNNymk6f",
        "outputId": "8f5f77dc-7d1a-4f31-f316-13c69164c3b0"
      },
      "execution_count": 76,
      "outputs": [
        {
          "output_type": "stream",
          "name": "stdout",
          "text": [
            "('bem', 1)\n",
            "('vindo', 1)\n",
            "('meu', 2)\n",
            "('nome', 1)\n",
            "('é', 1)\n",
            "('guilherme', 1)\n",
            "('eu', 1)\n",
            "('gosto', 2)\n",
            "('muito', 1)\n",
            "('de', 2)\n",
            "('nomes', 1)\n",
            "('e', 2)\n",
            "('tenho', 1)\n",
            "('cachorro', 2)\n"
          ]
        }
      ]
    },
    {
      "cell_type": "code",
      "source": [
        "for chave, valor in aparicoes.items():\n",
        "  print(chave, \"=\", valor)"
      ],
      "metadata": {
        "colab": {
          "base_uri": "https://localhost:8080/"
        },
        "id": "T02j2PqJm_Sf",
        "outputId": "ac2aa652-3cb7-4f88-8e36-7d4788128e5c"
      },
      "execution_count": 75,
      "outputs": [
        {
          "output_type": "stream",
          "name": "stdout",
          "text": [
            "bem = 1\n",
            "vindo = 1\n",
            "meu = 2\n",
            "nome = 1\n",
            "é = 1\n",
            "guilherme = 1\n",
            "eu = 1\n",
            "gosto = 2\n",
            "muito = 1\n",
            "de = 2\n",
            "nomes = 1\n",
            "e = 2\n",
            "tenho = 1\n",
            "cachorro = 2\n"
          ]
        }
      ]
    },
    {
      "cell_type": "code",
      "source": [
        "[\"palavra {}\".format(chave) for chave in aparicoes.keys()]"
      ],
      "metadata": {
        "colab": {
          "base_uri": "https://localhost:8080/"
        },
        "id": "Gr6nTuNWoly9",
        "outputId": "2dea4e60-f729-46d1-c2f9-1566304fd883"
      },
      "execution_count": 74,
      "outputs": [
        {
          "output_type": "execute_result",
          "data": {
            "text/plain": [
              "['palavra bem',\n",
              " 'palavra vindo',\n",
              " 'palavra meu',\n",
              " 'palavra nome',\n",
              " 'palavra é',\n",
              " 'palavra guilherme',\n",
              " 'palavra eu',\n",
              " 'palavra gosto',\n",
              " 'palavra muito',\n",
              " 'palavra de',\n",
              " 'palavra nomes',\n",
              " 'palavra e',\n",
              " 'palavra tenho',\n",
              " 'palavra cachorro']"
            ]
          },
          "metadata": {},
          "execution_count": 74
        }
      ]
    },
    {
      "cell_type": "code",
      "source": [
        "meu_texto = \"Bem vindo meu nome é Guilherme eu gosto muito de nomes e tenho o meu cachorro e gosto de cachorro\"\n",
        "meu_texto = meu_texto.lower()\n",
        "\n",
        "aparicoes = {}\n",
        "\n",
        "for palavra in meu_texto.split():\n",
        "  ate_agora = aparicoes.get(palavra, 0)\n",
        "  aparicoes[palavra] = ate_agora + 1\n",
        "\n",
        "aparicoes"
      ],
      "metadata": {
        "colab": {
          "base_uri": "https://localhost:8080/"
        },
        "id": "R1Kmc03jpCsL",
        "outputId": "a1042f4e-8432-4bb4-8666-3bab0381e4f2"
      },
      "execution_count": 82,
      "outputs": [
        {
          "output_type": "execute_result",
          "data": {
            "text/plain": [
              "{'bem': 1,\n",
              " 'vindo': 1,\n",
              " 'meu': 2,\n",
              " 'nome': 1,\n",
              " 'é': 1,\n",
              " 'guilherme': 1,\n",
              " 'eu': 1,\n",
              " 'gosto': 2,\n",
              " 'muito': 1,\n",
              " 'de': 2,\n",
              " 'nomes': 1,\n",
              " 'e': 2,\n",
              " 'tenho': 1,\n",
              " 'o': 1,\n",
              " 'cachorro': 2}"
            ]
          },
          "metadata": {},
          "execution_count": 82
        }
      ]
    },
    {
      "cell_type": "code",
      "source": [
        "from collections import defaultdict\n",
        "\n",
        "aparicoes = defaultdict(int)\n",
        "\n",
        "for palavra in meu_texto.split():\n",
        "  ate_agora = aparicoes[palavra]\n",
        "  aparicoes[palavra] = ate_agora + 1\n",
        "\n",
        "aparicoes"
      ],
      "metadata": {
        "colab": {
          "base_uri": "https://localhost:8080/"
        },
        "id": "OEdF4W4TuFPt",
        "outputId": "9585e371-3c5b-41ea-9dd5-ca4fe96a244f"
      },
      "execution_count": 92,
      "outputs": [
        {
          "output_type": "execute_result",
          "data": {
            "text/plain": [
              "defaultdict(int,\n",
              "            {'bem': 1,\n",
              "             'vindo': 1,\n",
              "             'meu': 2,\n",
              "             'nome': 1,\n",
              "             'é': 1,\n",
              "             'guilherme': 1,\n",
              "             'eu': 1,\n",
              "             'gosto': 2,\n",
              "             'muito': 1,\n",
              "             'de': 2,\n",
              "             'nomes': 1,\n",
              "             'e': 2,\n",
              "             'tenho': 1,\n",
              "             'o': 1,\n",
              "             'cachorro': 2})"
            ]
          },
          "metadata": {},
          "execution_count": 92
        }
      ]
    },
    {
      "cell_type": "code",
      "source": [
        "int"
      ],
      "metadata": {
        "colab": {
          "base_uri": "https://localhost:8080/"
        },
        "id": "Y4CpASVAuM4c",
        "outputId": "19e79704-8dc4-465f-ebd6-e6ac05936855"
      },
      "execution_count": 90,
      "outputs": [
        {
          "output_type": "execute_result",
          "data": {
            "text/plain": [
              "int"
            ]
          },
          "metadata": {},
          "execution_count": 90
        }
      ]
    },
    {
      "cell_type": "code",
      "source": [
        "dicionario = defaultdict(int)\n",
        "dicionario['guilherme']"
      ],
      "metadata": {
        "colab": {
          "base_uri": "https://localhost:8080/"
        },
        "id": "OKfMpHJ4vJA7",
        "outputId": "c25a9709-45d3-4ffa-af67-06aa0b84188d"
      },
      "execution_count": 96,
      "outputs": [
        {
          "output_type": "execute_result",
          "data": {
            "text/plain": [
              "0"
            ]
          },
          "metadata": {},
          "execution_count": 96
        }
      ]
    },
    {
      "cell_type": "code",
      "source": [
        "dicionario['guilherme'] = 15\n",
        "dicionario['guilherme']"
      ],
      "metadata": {
        "colab": {
          "base_uri": "https://localhost:8080/"
        },
        "id": "qLNRzNIgw2-B",
        "outputId": "e7d33e9f-2e8e-4195-e855-976f08be70a8"
      },
      "execution_count": 97,
      "outputs": [
        {
          "output_type": "execute_result",
          "data": {
            "text/plain": [
              "15"
            ]
          },
          "metadata": {},
          "execution_count": 97
        }
      ]
    },
    {
      "cell_type": "code",
      "source": [
        "aparicoes = defaultdict(int)\n",
        "\n",
        "for palavra in meu_texto.split():\n",
        "  aparicoes[palavra] += 1\n",
        "\n",
        "aparicoes"
      ],
      "metadata": {
        "colab": {
          "base_uri": "https://localhost:8080/"
        },
        "id": "VUXCMOtYw-GQ",
        "outputId": "59f6f43b-d72b-40b0-a0a8-0cf9206141fb"
      },
      "execution_count": 99,
      "outputs": [
        {
          "output_type": "execute_result",
          "data": {
            "text/plain": [
              "defaultdict(int,\n",
              "            {'bem': 1,\n",
              "             'vindo': 1,\n",
              "             'meu': 2,\n",
              "             'nome': 1,\n",
              "             'é': 1,\n",
              "             'guilherme': 1,\n",
              "             'eu': 1,\n",
              "             'gosto': 2,\n",
              "             'muito': 1,\n",
              "             'de': 2,\n",
              "             'nomes': 1,\n",
              "             'e': 2,\n",
              "             'tenho': 1,\n",
              "             'o': 1,\n",
              "             'cachorro': 2})"
            ]
          },
          "metadata": {},
          "execution_count": 99
        }
      ]
    },
    {
      "cell_type": "code",
      "source": [
        "class Conta:\n",
        "  def __init__(self):\n",
        "    print(\"Imprimindo uma conta\")"
      ],
      "metadata": {
        "id": "JvbTCaVO0zjk"
      },
      "execution_count": 101,
      "outputs": []
    },
    {
      "cell_type": "code",
      "source": [
        "contas = defaultdict(Conta)\n",
        "contas[15]"
      ],
      "metadata": {
        "colab": {
          "base_uri": "https://localhost:8080/"
        },
        "id": "LF0iUQ6o0Ob0",
        "outputId": "65d1218e-2c39-4ce3-c1c2-da9f11e7b6fc"
      },
      "execution_count": 102,
      "outputs": [
        {
          "output_type": "stream",
          "name": "stdout",
          "text": [
            "Imprimindo uma conta\n"
          ]
        },
        {
          "output_type": "execute_result",
          "data": {
            "text/plain": [
              "<__main__.Conta at 0x7c233de86c50>"
            ]
          },
          "metadata": {},
          "execution_count": 102
        }
      ]
    },
    {
      "cell_type": "code",
      "source": [
        "contas[17]"
      ],
      "metadata": {
        "colab": {
          "base_uri": "https://localhost:8080/"
        },
        "id": "qjWSu_Jx1FrC",
        "outputId": "d80d727a-d8db-47aa-852b-c933889980c2"
      },
      "execution_count": 104,
      "outputs": [
        {
          "output_type": "stream",
          "name": "stdout",
          "text": [
            "Imprimindo uma conta\n"
          ]
        },
        {
          "output_type": "execute_result",
          "data": {
            "text/plain": [
              "<__main__.Conta at 0x7c233dcf4520>"
            ]
          },
          "metadata": {},
          "execution_count": 104
        }
      ]
    },
    {
      "cell_type": "code",
      "source": [
        "contas[15]"
      ],
      "metadata": {
        "colab": {
          "base_uri": "https://localhost:8080/"
        },
        "id": "Z3Jsugba1JIy",
        "outputId": "a5d8853c-eb59-41b9-da03-3cc4f5e598e9"
      },
      "execution_count": 105,
      "outputs": [
        {
          "output_type": "execute_result",
          "data": {
            "text/plain": [
              "<__main__.Conta at 0x7c233de86c50>"
            ]
          },
          "metadata": {},
          "execution_count": 105
        }
      ]
    },
    {
      "cell_type": "code",
      "source": [
        "from collections import Counter\n",
        "\n",
        "aparicoes = Counter()\n",
        "for palavra in meu_texto.split():\n",
        "  aparicoes[palavra] += 1\n",
        "\n",
        "aparicoes"
      ],
      "metadata": {
        "colab": {
          "base_uri": "https://localhost:8080/"
        },
        "id": "UMj2BYqz1NTC",
        "outputId": "c2c947f3-2c54-411b-e8be-5f4f818b2f3b"
      },
      "execution_count": 107,
      "outputs": [
        {
          "output_type": "execute_result",
          "data": {
            "text/plain": [
              "Counter({'bem': 1,\n",
              "         'vindo': 1,\n",
              "         'meu': 2,\n",
              "         'nome': 1,\n",
              "         'é': 1,\n",
              "         'guilherme': 1,\n",
              "         'eu': 1,\n",
              "         'gosto': 2,\n",
              "         'muito': 1,\n",
              "         'de': 2,\n",
              "         'nomes': 1,\n",
              "         'e': 2,\n",
              "         'tenho': 1,\n",
              "         'o': 1,\n",
              "         'cachorro': 2})"
            ]
          },
          "metadata": {},
          "execution_count": 107
        }
      ]
    },
    {
      "cell_type": "code",
      "source": [
        "aparicoes = Counter(meu_texto.split())\n",
        "\n",
        "aparicoes"
      ],
      "metadata": {
        "colab": {
          "base_uri": "https://localhost:8080/"
        },
        "id": "plz30Eee18Ty",
        "outputId": "340b0499-e809-4b6d-e9b7-69d52fbc1422"
      },
      "execution_count": 108,
      "outputs": [
        {
          "output_type": "execute_result",
          "data": {
            "text/plain": [
              "Counter({'bem': 1,\n",
              "         'vindo': 1,\n",
              "         'meu': 2,\n",
              "         'nome': 1,\n",
              "         'é': 1,\n",
              "         'guilherme': 1,\n",
              "         'eu': 1,\n",
              "         'gosto': 2,\n",
              "         'muito': 1,\n",
              "         'de': 2,\n",
              "         'nomes': 1,\n",
              "         'e': 2,\n",
              "         'tenho': 1,\n",
              "         'o': 1,\n",
              "         'cachorro': 2})"
            ]
          },
          "metadata": {},
          "execution_count": 108
        }
      ]
    },
    {
      "cell_type": "code",
      "source": [],
      "metadata": {
        "id": "tH9IV6_B2YPx"
      },
      "execution_count": null,
      "outputs": []
    },
    {
      "cell_type": "markdown",
      "source": [
        "# Testando o uso de diversas coleções"
      ],
      "metadata": {
        "id": "uBlxziqG2rbq"
      }
    },
    {
      "cell_type": "code",
      "source": [
        "texto1 = \"\"\"\n",
        "Lorem Ipsum is simply dummy text of the printing and typesetting industry.\n",
        "Lorem Ipsum has been the industry's standard dummy text ever since the 1500s,\n",
        "when an unknown printer took a galley of type and scrambled it to make a type specimen book.\n",
        "It has survived not only five centuries, but also the leap into electronic typesetting,\n",
        "remaining essentially unchanged.\n",
        "It was popularised in the 1960s with the release of Letraset sheets containing Lorem Ipsum passages,\n",
        "and more recently with desktop publishing software like Aldus PageMaker including versions of Lorem Ipsum.\n",
        "\"\"\""
      ],
      "metadata": {
        "id": "1GUOL8ZR22FJ"
      },
      "execution_count": 110,
      "outputs": []
    },
    {
      "cell_type": "code",
      "source": [
        "texto2 = \"\"\"\n",
        "It is a long established fact that a reader will be distracted by the readable content of a page when looking at its layout.\n",
        "The point of using Lorem Ipsum is that it has a more-or-less normal distribution of letters, as opposed to using 'Content here,\n",
        "content here', making it look like readable English.\n",
        "Many desktop publishing packages and web page editors now use Lorem Ipsum as their default model text,\n",
        "and a search for 'lorem ipsum' will uncover many web sites still in their infancy. Various versions have evolved over the years,\n",
        "sometimes by accident, sometimes on purpose (injected humour and the like).\n",
        "\"\"\""
      ],
      "metadata": {
        "id": "rvplZHcG7l3z"
      },
      "execution_count": 111,
      "outputs": []
    },
    {
      "cell_type": "code",
      "source": [
        "def analisa_frequencia_de_letras(texto):\n",
        "  aparicoes = Counter(texto.lower())\n",
        "  total_de_caracteres = sum(aparicoes.values())\n",
        "\n",
        "  proporcoes = [(letra, frequencia / total_de_caracteres) for letra, frequencia in aparicoes.items()]\n",
        "  proporcoes = Counter(dict(proporcoes))\n",
        "  mais_comuns = proporcoes.most_common(10)\n",
        "  for caractere, proporcao in mais_comuns:\n",
        "    print(\"{} => {:.2f}%\".format(caractere, proporcao * 100))"
      ],
      "metadata": {
        "id": "iN35HmOI79QS"
      },
      "execution_count": 137,
      "outputs": []
    },
    {
      "cell_type": "code",
      "source": [
        "analisa_frequencia_de_letras(texto1)"
      ],
      "metadata": {
        "colab": {
          "base_uri": "https://localhost:8080/"
        },
        "id": "K_nd1jXh8Hx7",
        "outputId": "091252b3-6901-45de-d03f-711d9133b6fc"
      },
      "execution_count": 138,
      "outputs": [
        {
          "output_type": "stream",
          "name": "stdout",
          "text": [
            "  => 14.88%\n",
            "e => 10.21%\n",
            "t => 7.44%\n",
            "s => 6.75%\n",
            "i => 6.57%\n",
            "n => 6.57%\n",
            "a => 5.02%\n",
            "o => 4.33%\n",
            "r => 4.15%\n",
            "l => 3.81%\n"
          ]
        }
      ]
    },
    {
      "cell_type": "code",
      "source": [
        "analisa_frequencia_de_letras(texto2)"
      ],
      "metadata": {
        "colab": {
          "base_uri": "https://localhost:8080/"
        },
        "id": "tvX8UniwCVr8",
        "outputId": "15d039e3-d9bc-49ae-990a-a010f0028339"
      },
      "execution_count": 139,
      "outputs": [
        {
          "output_type": "stream",
          "name": "stdout",
          "text": [
            "  => 16.48%\n",
            "e => 10.18%\n",
            "t => 6.95%\n",
            "i => 6.30%\n",
            "s => 6.14%\n",
            "a => 6.14%\n",
            "o => 6.14%\n",
            "n => 5.01%\n",
            "r => 4.36%\n",
            "l => 4.20%\n"
          ]
        }
      ]
    },
    {
      "cell_type": "code",
      "source": [],
      "metadata": {
        "id": "sjXcJlt6DKnz"
      },
      "execution_count": null,
      "outputs": []
    }
  ]
}